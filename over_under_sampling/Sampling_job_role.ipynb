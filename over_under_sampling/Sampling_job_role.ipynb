{
  "nbformat": 4,
  "nbformat_minor": 0,
  "metadata": {
    "colab": {
      "name": "Sampling_job_role.ipynb",
      "provenance": [],
      "collapsed_sections": [
        "NRavhlpovZxr",
        "C_0rhi0N1Sm-",
        "P1y0hhX_y5Nw",
        "rEAqPoSSzapW",
        "hBBl360YDcgv",
        "Iyg5txChHbVc"
      ]
    },
    "kernelspec": {
      "name": "python3",
      "display_name": "Python 3"
    },
    "language_info": {
      "name": "python"
    }
  },
  "cells": [
    {
      "cell_type": "code",
      "metadata": {
        "id": "LaiQ4JusC9qe"
      },
      "source": [
        "import pandas as pd\n",
        "import numpy as np\n",
        "from sklearn.preprocessing import MultiLabelBinarizer"
      ],
      "execution_count": null,
      "outputs": []
    },
    {
      "cell_type": "code",
      "metadata": {
        "colab": {
          "base_uri": "https://localhost:8080/"
        },
        "id": "2PwcKP-QDHZC",
        "outputId": "ba16d0fd-e90e-4f0a-fd88-dc4d517d97e2"
      },
      "source": [
        "from google.colab import drive\n",
        "drive.mount('/content/drive')"
      ],
      "execution_count": null,
      "outputs": [
        {
          "output_type": "stream",
          "name": "stdout",
          "text": [
            "Mounted at /content/drive\n"
          ]
        }
      ]
    },
    {
      "cell_type": "code",
      "metadata": {
        "colab": {
          "base_uri": "https://localhost:8080/",
          "height": 231
        },
        "id": "QOzT3kbVDJ7X",
        "outputId": "e953734f-ff57-4e8c-f316-4d2778fd2821"
      },
      "source": [
        "from google.colab import files\n",
        "\n",
        "df = pd.read_csv('/content/drive/MyDrive/Colab Data/transportation_logistics.csv')\n",
        "df.head(2)"
      ],
      "execution_count": null,
      "outputs": [
        {
          "output_type": "execute_result",
          "data": {
            "text/html": [
              "<div>\n",
              "<style scoped>\n",
              "    .dataframe tbody tr th:only-of-type {\n",
              "        vertical-align: middle;\n",
              "    }\n",
              "\n",
              "    .dataframe tbody tr th {\n",
              "        vertical-align: top;\n",
              "    }\n",
              "\n",
              "    .dataframe thead th {\n",
              "        text-align: right;\n",
              "    }\n",
              "</style>\n",
              "<table border=\"1\" class=\"dataframe\">\n",
              "  <thead>\n",
              "    <tr style=\"text-align: right;\">\n",
              "      <th></th>\n",
              "      <th>jobs/search_query</th>\n",
              "      <th>jobs/rank_on_page</th>\n",
              "      <th>jobs/job_title_by_google</th>\n",
              "      <th>jobs/job_organization_by_google</th>\n",
              "      <th>jobs/job_city_by_google</th>\n",
              "      <th>jobs/website_by_google</th>\n",
              "      <th>jobs/posted_time_string</th>\n",
              "      <th>jobs/posted_date_by_google</th>\n",
              "      <th>jobs/scraped_date</th>\n",
              "      <th>jobs/desc</th>\n",
              "    </tr>\n",
              "  </thead>\n",
              "  <tbody>\n",
              "    <tr>\n",
              "      <th>0</th>\n",
              "      <td>Air Cargo Ground Crew Supervisor  jobs in usa</td>\n",
              "      <td>1</td>\n",
              "      <td>Ground Operations Supervisor</td>\n",
              "      <td>National Airlines</td>\n",
              "      <td>Orlando, FL</td>\n",
              "      <td>via Jobs</td>\n",
              "      <td>6 days ago</td>\n",
              "      <td>2021-11-19 14:50:26</td>\n",
              "      <td>2021-11-25 14:50:26</td>\n",
              "      <td>No Information Found</td>\n",
              "    </tr>\n",
              "    <tr>\n",
              "      <th>1</th>\n",
              "      <td>Air Cargo Ground Crew Supervisor  jobs in usa</td>\n",
              "      <td>2</td>\n",
              "      <td>Airline - Ground Handling Manager</td>\n",
              "      <td>Ameriflight, LLC</td>\n",
              "      <td>Spokane, WA</td>\n",
              "      <td>via Learn4Good.com</td>\n",
              "      <td>6 days ago</td>\n",
              "      <td>2021-11-19 14:50:37</td>\n",
              "      <td>2021-11-25 14:50:37</td>\n",
              "      <td>Must have excellent management and communicati...</td>\n",
              "    </tr>\n",
              "  </tbody>\n",
              "</table>\n",
              "</div>"
            ],
            "text/plain": [
              "                               jobs/search_query  ...                                          jobs/desc\n",
              "0  Air Cargo Ground Crew Supervisor  jobs in usa  ...                               No Information Found\n",
              "1  Air Cargo Ground Crew Supervisor  jobs in usa  ...  Must have excellent management and communicati...\n",
              "\n",
              "[2 rows x 10 columns]"
            ]
          },
          "metadata": {},
          "execution_count": 3
        }
      ]
    },
    {
      "cell_type": "code",
      "metadata": {
        "colab": {
          "base_uri": "https://localhost:8080/",
          "height": 110
        },
        "id": "sm9Pz3dvLdtV",
        "outputId": "572f1be0-be3e-40b6-ea34-e45047529b9d"
      },
      "source": [
        "df = df[[\"jobs/search_query\",\"jobs/job_title_by_google\",\"jobs/desc\"]]\n",
        "df = df.rename(columns={\n",
        "    \"jobs/search_query\":\"search_query\",\n",
        "    \"jobs/job_title_by_google\" :\"title\",\n",
        "    \"jobs/desc\":\"desc\"\n",
        "})\n",
        "df['job_roles'] = df['search_query'].apply(lambda x : x.split('jobs')[0])\n",
        "df.head(2)"
      ],
      "execution_count": null,
      "outputs": [
        {
          "output_type": "execute_result",
          "data": {
            "text/html": [
              "<div>\n",
              "<style scoped>\n",
              "    .dataframe tbody tr th:only-of-type {\n",
              "        vertical-align: middle;\n",
              "    }\n",
              "\n",
              "    .dataframe tbody tr th {\n",
              "        vertical-align: top;\n",
              "    }\n",
              "\n",
              "    .dataframe thead th {\n",
              "        text-align: right;\n",
              "    }\n",
              "</style>\n",
              "<table border=\"1\" class=\"dataframe\">\n",
              "  <thead>\n",
              "    <tr style=\"text-align: right;\">\n",
              "      <th></th>\n",
              "      <th>search_query</th>\n",
              "      <th>title</th>\n",
              "      <th>desc</th>\n",
              "      <th>job_roles</th>\n",
              "    </tr>\n",
              "  </thead>\n",
              "  <tbody>\n",
              "    <tr>\n",
              "      <th>0</th>\n",
              "      <td>Air Cargo Ground Crew Supervisor  jobs in usa</td>\n",
              "      <td>Ground Operations Supervisor</td>\n",
              "      <td>No Information Found</td>\n",
              "      <td>Air Cargo Ground Crew Supervisor</td>\n",
              "    </tr>\n",
              "    <tr>\n",
              "      <th>1</th>\n",
              "      <td>Air Cargo Ground Crew Supervisor  jobs in usa</td>\n",
              "      <td>Airline - Ground Handling Manager</td>\n",
              "      <td>Must have excellent management and communicati...</td>\n",
              "      <td>Air Cargo Ground Crew Supervisor</td>\n",
              "    </tr>\n",
              "  </tbody>\n",
              "</table>\n",
              "</div>"
            ],
            "text/plain": [
              "                                    search_query  ...                           job_roles\n",
              "0  Air Cargo Ground Crew Supervisor  jobs in usa  ...  Air Cargo Ground Crew Supervisor  \n",
              "1  Air Cargo Ground Crew Supervisor  jobs in usa  ...  Air Cargo Ground Crew Supervisor  \n",
              "\n",
              "[2 rows x 4 columns]"
            ]
          },
          "metadata": {},
          "execution_count": 4
        }
      ]
    },
    {
      "cell_type": "code",
      "metadata": {
        "colab": {
          "base_uri": "https://localhost:8080/",
          "height": 110
        },
        "id": "0QeJvN68Ls-y",
        "outputId": "899986de-d178-41c3-e019-08128e461f7f"
      },
      "source": [
        "df = df[['job_roles','title','desc']]\n",
        "df.head(2)"
      ],
      "execution_count": null,
      "outputs": [
        {
          "output_type": "execute_result",
          "data": {
            "text/html": [
              "<div>\n",
              "<style scoped>\n",
              "    .dataframe tbody tr th:only-of-type {\n",
              "        vertical-align: middle;\n",
              "    }\n",
              "\n",
              "    .dataframe tbody tr th {\n",
              "        vertical-align: top;\n",
              "    }\n",
              "\n",
              "    .dataframe thead th {\n",
              "        text-align: right;\n",
              "    }\n",
              "</style>\n",
              "<table border=\"1\" class=\"dataframe\">\n",
              "  <thead>\n",
              "    <tr style=\"text-align: right;\">\n",
              "      <th></th>\n",
              "      <th>job_roles</th>\n",
              "      <th>title</th>\n",
              "      <th>desc</th>\n",
              "    </tr>\n",
              "  </thead>\n",
              "  <tbody>\n",
              "    <tr>\n",
              "      <th>0</th>\n",
              "      <td>Air Cargo Ground Crew Supervisor</td>\n",
              "      <td>Ground Operations Supervisor</td>\n",
              "      <td>No Information Found</td>\n",
              "    </tr>\n",
              "    <tr>\n",
              "      <th>1</th>\n",
              "      <td>Air Cargo Ground Crew Supervisor</td>\n",
              "      <td>Airline - Ground Handling Manager</td>\n",
              "      <td>Must have excellent management and communicati...</td>\n",
              "    </tr>\n",
              "  </tbody>\n",
              "</table>\n",
              "</div>"
            ],
            "text/plain": [
              "                            job_roles  ...                                               desc\n",
              "0  Air Cargo Ground Crew Supervisor    ...                               No Information Found\n",
              "1  Air Cargo Ground Crew Supervisor    ...  Must have excellent management and communicati...\n",
              "\n",
              "[2 rows x 3 columns]"
            ]
          },
          "metadata": {},
          "execution_count": 6
        }
      ]
    },
    {
      "cell_type": "code",
      "metadata": {
        "colab": {
          "base_uri": "https://localhost:8080/"
        },
        "id": "yfiJSzm5Pj0o",
        "outputId": "9d29cdee-c320-4292-c437-35429dc79404"
      },
      "source": [
        "df.shape"
      ],
      "execution_count": null,
      "outputs": [
        {
          "output_type": "execute_result",
          "data": {
            "text/plain": [
              "(1592, 3)"
            ]
          },
          "metadata": {},
          "execution_count": 7
        }
      ]
    },
    {
      "cell_type": "code",
      "metadata": {
        "colab": {
          "base_uri": "https://localhost:8080/"
        },
        "id": "c1y2daU3PHqL",
        "outputId": "230094ab-0161-4300-ad59-48fe8ae1c4ae"
      },
      "source": [
        "df[df['desc']=='No Information Found'].count()"
      ],
      "execution_count": null,
      "outputs": [
        {
          "output_type": "execute_result",
          "data": {
            "text/plain": [
              "job_roles    147\n",
              "title        147\n",
              "desc         147\n",
              "dtype: int64"
            ]
          },
          "metadata": {},
          "execution_count": 8
        }
      ]
    },
    {
      "cell_type": "code",
      "metadata": {
        "id": "CgkOKklXPch1"
      },
      "source": [
        "#Droping rows with no information in 'desc'\n",
        "df.drop(df.index[df['desc']=='No Information Found'],inplace=True)"
      ],
      "execution_count": null,
      "outputs": []
    },
    {
      "cell_type": "code",
      "metadata": {
        "colab": {
          "base_uri": "https://localhost:8080/"
        },
        "id": "tZiuQUE8RIxQ",
        "outputId": "11290410-15e2-46b5-ddf5-7f6646c54482"
      },
      "source": [
        "df.shape"
      ],
      "execution_count": null,
      "outputs": [
        {
          "output_type": "execute_result",
          "data": {
            "text/plain": [
              "(1445, 3)"
            ]
          },
          "metadata": {},
          "execution_count": 10
        }
      ]
    },
    {
      "cell_type": "code",
      "metadata": {
        "id": "aEFme4fJUCj2"
      },
      "source": [
        "!pip install clean-text"
      ],
      "execution_count": null,
      "outputs": []
    },
    {
      "cell_type": "code",
      "metadata": {
        "colab": {
          "base_uri": "https://localhost:8080/"
        },
        "id": "DaNrVG1OUgwc",
        "outputId": "f117828e-71f8-40e6-ae4c-64b00818e422"
      },
      "source": [
        "# load stop words\n",
        "import nltk\n",
        "nltk.download('stopwords')\n",
        "from nltk.corpus import stopwords\n",
        "stop_word = stopwords.words('english')"
      ],
      "execution_count": null,
      "outputs": [
        {
          "output_type": "stream",
          "name": "stdout",
          "text": [
            "[nltk_data] Downloading package stopwords to /root/nltk_data...\n",
            "[nltk_data]   Unzipping corpora/stopwords.zip.\n"
          ]
        }
      ]
    },
    {
      "cell_type": "code",
      "metadata": {
        "colab": {
          "base_uri": "https://localhost:8080/"
        },
        "id": "dqPzDRyfUkay",
        "outputId": "73eea160-0d22-4095-840a-1e256d48ff3e"
      },
      "source": [
        "from cleantext import clean\n",
        "import re\n",
        "\n",
        "def textCleaning(text):      \n",
        "                         \n",
        "    #     remove urls\n",
        "    text = re.sub(r'http\\S+', \" \", text)\n",
        "\n",
        "    #     remove mentions\n",
        "    text = re.sub(r'@\\w+',' ',text)\n",
        "\n",
        "    #     remove hastags\n",
        "    text = re.sub(r'#\\w+', ' ', text)\n",
        "    \n",
        "    # take alphanumerical\n",
        "    text = re.sub(r'\\W+', ' ', text)\n",
        "\n",
        "    #     remove digits\n",
        "    text = re.sub(r'\\d+', ' ', text)\n",
        "\n",
        "    #     remove html tags\n",
        "    text = re.sub('r<.*?>',' ', text)\n",
        "    \n",
        "    #     remove stop words \n",
        "    text = text.split()\n",
        "    text = \" \".join([word for word in text if not word in stop_word])    \n",
        "      \n",
        "    \n",
        "    return clean(text,\n",
        "        fix_unicode=True,               # fix various unicode errors\n",
        "        to_ascii=True,                  # transliterate to closest ASCII representation\n",
        "        lower=True,                     # lowercase text\n",
        "        no_line_breaks=False,           # fully strip line breaks as opposed to only normalizing them\n",
        "        no_urls=False,                  # replace all URLs with a special token\n",
        "        no_emails=False,                # replace all email addresses with a special token\n",
        "        no_phone_numbers=False,         # replace all phone numbers with a special token\n",
        "        no_numbers=False,               # replace all numbers with a special token\n",
        "        no_digits=False,                # replace all digits with a special token\n",
        "        no_currency_symbols=False,      # replace all currency symbols with a special token\n",
        "        no_punct=False,                 # remove punctuations\n",
        "        replace_with_punct=\"\",          # instead of removing punctuations you may replace them\n",
        "        replace_with_url=\" \",\n",
        "        replace_with_email=\"<EMAIL>\",\n",
        "        replace_with_phone_number=\"<PHONE>\",\n",
        "        replace_with_number=\"<NUMBER>\",\n",
        "        replace_with_digit=\"0\",\n",
        "        replace_with_currency_symbol=\"<CUR>\",\n",
        "        lang=\"en\"                       # set to 'de' for German special handling\n",
        "    )"
      ],
      "execution_count": null,
      "outputs": [
        {
          "output_type": "stream",
          "name": "stderr",
          "text": [
            "Since the GPL-licensed package `unidecode` is not installed, using Python's `unicodedata` package which yields worse results.\n"
          ]
        }
      ]
    },
    {
      "cell_type": "code",
      "metadata": {
        "id": "aCdz6DjwUtDI"
      },
      "source": [
        "df['clean_desc'] = df['desc'].apply(lambda x: textCleaning(x))"
      ],
      "execution_count": null,
      "outputs": []
    },
    {
      "cell_type": "code",
      "metadata": {
        "colab": {
          "base_uri": "https://localhost:8080/",
          "height": 110
        },
        "id": "c2h3tyA_U1Ca",
        "outputId": "00e1993e-bebe-4e87-d63a-01b60736f376"
      },
      "source": [
        "df.head(2)"
      ],
      "execution_count": null,
      "outputs": [
        {
          "output_type": "execute_result",
          "data": {
            "text/html": [
              "<div>\n",
              "<style scoped>\n",
              "    .dataframe tbody tr th:only-of-type {\n",
              "        vertical-align: middle;\n",
              "    }\n",
              "\n",
              "    .dataframe tbody tr th {\n",
              "        vertical-align: top;\n",
              "    }\n",
              "\n",
              "    .dataframe thead th {\n",
              "        text-align: right;\n",
              "    }\n",
              "</style>\n",
              "<table border=\"1\" class=\"dataframe\">\n",
              "  <thead>\n",
              "    <tr style=\"text-align: right;\">\n",
              "      <th></th>\n",
              "      <th>job_roles</th>\n",
              "      <th>title</th>\n",
              "      <th>desc</th>\n",
              "      <th>clean_desc</th>\n",
              "    </tr>\n",
              "  </thead>\n",
              "  <tbody>\n",
              "    <tr>\n",
              "      <th>1</th>\n",
              "      <td>Air Cargo Ground Crew Supervisor</td>\n",
              "      <td>Airline - Ground Handling Manager</td>\n",
              "      <td>Must have excellent management and communicati...</td>\n",
              "      <td>must excellent management communication skills...</td>\n",
              "    </tr>\n",
              "    <tr>\n",
              "      <th>3</th>\n",
              "      <td>Air Cargo Ground Crew Supervisor</td>\n",
              "      <td>British Airways Supervisor Ramp Services - $20...</td>\n",
              "      <td>•\\r\\nMust possess strong organizational and mu...</td>\n",
              "      <td>must possess strong organizational multi taski...</td>\n",
              "    </tr>\n",
              "  </tbody>\n",
              "</table>\n",
              "</div>"
            ],
            "text/plain": [
              "                            job_roles  ...                                         clean_desc\n",
              "1  Air Cargo Ground Crew Supervisor    ...  must excellent management communication skills...\n",
              "3  Air Cargo Ground Crew Supervisor    ...  must possess strong organizational multi taski...\n",
              "\n",
              "[2 rows x 4 columns]"
            ]
          },
          "metadata": {},
          "execution_count": 15
        }
      ]
    },
    {
      "cell_type": "code",
      "metadata": {
        "colab": {
          "base_uri": "https://localhost:8080/"
        },
        "id": "VYpDlKERU-2h",
        "outputId": "5fab6bf4-5a34-4c42-dccc-97b59c360747"
      },
      "source": [
        "df['clean_desc'].duplicated().sum()"
      ],
      "execution_count": null,
      "outputs": [
        {
          "output_type": "execute_result",
          "data": {
            "text/plain": [
              "193"
            ]
          },
          "metadata": {},
          "execution_count": 16
        }
      ]
    },
    {
      "cell_type": "code",
      "metadata": {
        "id": "8Av8oxZEWQk6"
      },
      "source": [
        "df.drop_duplicates(subset =\"clean_desc\", keep = 'first', inplace = True)"
      ],
      "execution_count": null,
      "outputs": []
    },
    {
      "cell_type": "code",
      "metadata": {
        "colab": {
          "base_uri": "https://localhost:8080/"
        },
        "id": "6pj3T1FRa5IY",
        "outputId": "9a77024e-4c45-4685-feef-80bce45f0640"
      },
      "source": [
        "print(df['desc'].duplicated().sum())\n",
        "print(df['clean_desc'].duplicated().sum())"
      ],
      "execution_count": null,
      "outputs": [
        {
          "output_type": "stream",
          "name": "stdout",
          "text": [
            "0\n",
            "0\n"
          ]
        }
      ]
    },
    {
      "cell_type": "code",
      "metadata": {
        "id": "9n-AzrwUaVp1"
      },
      "source": [
        "df.drop(df.index[df['job_roles']=='Cleaner'],inplace=True)\n",
        "df.drop(df.index[df['job_roles']=='Pilot'],inplace=True)\n",
        "df.drop(df.index[df['job_roles']=='Sailors and Marine Oiler'],inplace=True)"
      ],
      "execution_count": null,
      "outputs": []
    },
    {
      "cell_type": "code",
      "metadata": {
        "colab": {
          "base_uri": "https://localhost:8080/"
        },
        "id": "VfWd9ctZf0d1",
        "outputId": "033fe001-3e74-49b4-da51-a96ebeb162d5"
      },
      "source": [
        "df.shape"
      ],
      "execution_count": null,
      "outputs": [
        {
          "output_type": "execute_result",
          "data": {
            "text/plain": [
              "(1249, 4)"
            ]
          },
          "metadata": {},
          "execution_count": 20
        }
      ]
    },
    {
      "cell_type": "code",
      "metadata": {
        "colab": {
          "base_uri": "https://localhost:8080/",
          "height": 574
        },
        "id": "GyTOR0b1a7p9",
        "outputId": "614d5137-7564-45cc-e616-e1eda28b18a6"
      },
      "source": [
        "from matplotlib import pyplot as plt\n",
        "%matplotlib inline\n",
        "import seaborn as sns\n",
        "\n",
        "plt.figure(figsize=(20,5))\n",
        "sns.countplot(df['job_roles'])\n",
        "plt.xticks(rotation=90);"
      ],
      "execution_count": null,
      "outputs": [
        {
          "output_type": "stream",
          "name": "stderr",
          "text": [
            "/usr/local/lib/python3.7/dist-packages/seaborn/_decorators.py:43: FutureWarning: Pass the following variable as a keyword arg: x. From version 0.12, the only valid positional argument will be `data`, and passing other arguments without an explicit keyword will result in an error or misinterpretation.\n",
            "  FutureWarning\n"
          ]
        },
        {
          "output_type": "display_data",
          "data": {
            "image/png": "[encoded data removed]",
            "text/plain": [
              "<Figure size 1440x360 with 1 Axes>"
            ]
          },
          "metadata": {
            "needs_background": "light"
          }
        }
      ]
    },
    {
      "cell_type": "markdown",
      "metadata": {
        "id": "AAQAofGayxy8"
      },
      "source": [
        "# Cosine Similarity"
      ]
    },
    {
      "cell_type": "code",
      "metadata": {
        "id": "T8yCavXCLMhG"
      },
      "source": [
        "#Aircraft Cargo Handling Supervisor, Aircraft Mechanic\n",
        "data = df['clean_desc'][df['job_roles']=='Aircraft Mechanic']"
      ],
      "execution_count": null,
      "outputs": []
    },
    {
      "cell_type": "code",
      "metadata": {
        "colab": {
          "base_uri": "https://localhost:8080/"
        },
        "id": "jPovLXpqJ_jc",
        "outputId": "192f3c49-61c5-4b09-f261-d429cd631235"
      },
      "source": [
        "from sklearn.feature_extraction.text import TfidfVectorizer\n",
        "from sklearn.metrics.pairwise import cosine_similarity\n",
        "\n",
        "Tfidf_vect = TfidfVectorizer()\n",
        "df_tfidf = Tfidf_vect.fit_transform(data)\n",
        "\n",
        "for i in range(len(df_tfidf.toarray())):\n",
        "  j=i+1\n",
        "  for j in range(j,len(df_tfidf.toarray()),1):\n",
        "    if cosine_similarity(df_tfidf[i],df_tfidf[j]) >= 0.90:\n",
        "      print(cosine_similarity(df_tfidf[i],df_tfidf[j]))"
      ],
      "execution_count": null,
      "outputs": [
        {
          "output_type": "stream",
          "name": "stdout",
          "text": [
            "[[0.9562996]]\n"
          ]
        }
      ]
    },
    {
      "cell_type": "code",
      "metadata": {
        "id": "aLnudKu6zZt5"
      },
      "source": [
        "from sklearn.feature_extraction.text import CountVectorizer"
      ],
      "execution_count": null,
      "outputs": []
    },
    {
      "cell_type": "code",
      "metadata": {
        "id": "SVR4YdgbArv8"
      },
      "source": [
        "df.reset_index(drop=True, inplace=True)"
      ],
      "execution_count": null,
      "outputs": []
    },
    {
      "cell_type": "code",
      "metadata": {
        "colab": {
          "base_uri": "https://localhost:8080/",
          "height": 110
        },
        "id": "nbITMES__CWs",
        "outputId": "3248ee1c-2a91-48d0-8e76-a95cf26b2f76"
      },
      "source": [
        "df.tail(2)"
      ],
      "execution_count": null,
      "outputs": [
        {
          "output_type": "execute_result",
          "data": {
            "text/html": [
              "<div>\n",
              "<style scoped>\n",
              "    .dataframe tbody tr th:only-of-type {\n",
              "        vertical-align: middle;\n",
              "    }\n",
              "\n",
              "    .dataframe tbody tr th {\n",
              "        vertical-align: top;\n",
              "    }\n",
              "\n",
              "    .dataframe thead th {\n",
              "        text-align: right;\n",
              "    }\n",
              "</style>\n",
              "<table border=\"1\" class=\"dataframe\">\n",
              "  <thead>\n",
              "    <tr style=\"text-align: right;\">\n",
              "      <th></th>\n",
              "      <th>job_roles</th>\n",
              "      <th>title</th>\n",
              "      <th>desc</th>\n",
              "      <th>clean_desc</th>\n",
              "    </tr>\n",
              "  </thead>\n",
              "  <tbody>\n",
              "    <tr>\n",
              "      <th>1247</th>\n",
              "      <td>Transportation Planner</td>\n",
              "      <td>Public Transportation Planner, Analyst</td>\n",
              "      <td>•\\r\\nTravel up to 50% (While 50% of travel is ...</td>\n",
              "      <td>travel while travel requirement role due covid...</td>\n",
              "    </tr>\n",
              "    <tr>\n",
              "      <th>1248</th>\n",
              "      <td>Transportation Planner</td>\n",
              "      <td>Transportation Planner</td>\n",
              "      <td>•\\r\\nAbility to work on multiple projects at t...</td>\n",
              "      <td>ability work multiple projects time independen...</td>\n",
              "    </tr>\n",
              "  </tbody>\n",
              "</table>\n",
              "</div>"
            ],
            "text/plain": [
              "                    job_roles  ...                                         clean_desc\n",
              "1247  Transportation Planner   ...  travel while travel requirement role due covid...\n",
              "1248  Transportation Planner   ...  ability work multiple projects time independen...\n",
              "\n",
              "[2 rows x 4 columns]"
            ]
          },
          "metadata": {},
          "execution_count": 23
        }
      ]
    },
    {
      "cell_type": "code",
      "metadata": {
        "colab": {
          "base_uri": "https://localhost:8080/"
        },
        "id": "-SO4Pk9Z9XF_",
        "outputId": "bc89ce94-1dd7-4190-f951-f85632ef2f96"
      },
      "source": [
        "df['clean_desc'][df['job_roles'] == 'Transportation Planner '].index"
      ],
      "execution_count": null,
      "outputs": [
        {
          "output_type": "execute_result",
          "data": {
            "text/plain": [
              "Int64Index([1231, 1232, 1233, 1234, 1235, 1236, 1237, 1238, 1239, 1240, 1241,\n",
              "            1242, 1243, 1244, 1245, 1246, 1247, 1248],\n",
              "           dtype='int64')"
            ]
          },
          "metadata": {},
          "execution_count": 250
        }
      ]
    },
    {
      "cell_type": "code",
      "metadata": {
        "id": "iQxTGBHNzPjp"
      },
      "source": [
        "def similarity(df):\n",
        "\n",
        "  li=[]\n",
        "  count=0\n",
        "  count_vect = CountVectorizer()\n",
        "  vector = count_vect.fit_transform(df['clean_desc'])\n",
        "  job_roles = df['job_roles'].unique()\n",
        "\n",
        "  for i in job_roles:\n",
        "    data_index = df['clean_desc'][df['job_roles']== i].index\n",
        "    for j in range(len(data_index)-1):\n",
        "      k=j+1\n",
        "      for k in range(k,len(data_index),1):\n",
        "        if cosine_similarity(vector[data_index[j]],vector[data_index[k]]) >= 0.90:\n",
        "          count=count+1\n",
        "          li.append(data_index[k])\n",
        "\n",
        "  li_x = [i for i in df.index if i not in li]\n",
        "  df=df.iloc[li_x,:]\n",
        "  return df"
      ],
      "execution_count": null,
      "outputs": []
    },
    {
      "cell_type": "code",
      "metadata": {
        "id": "X9EWvNhB994e"
      },
      "source": [
        "df_extra = similarity(df)"
      ],
      "execution_count": null,
      "outputs": []
    },
    {
      "cell_type": "code",
      "metadata": {
        "colab": {
          "base_uri": "https://localhost:8080/",
          "height": 110
        },
        "id": "BYR0UvHvWFpW",
        "outputId": "7ce46dd6-6e97-4102-9178-5b2fcd73a03b"
      },
      "source": [
        "df_extra.tail(2)"
      ],
      "execution_count": null,
      "outputs": [
        {
          "output_type": "execute_result",
          "data": {
            "text/html": [
              "<div>\n",
              "<style scoped>\n",
              "    .dataframe tbody tr th:only-of-type {\n",
              "        vertical-align: middle;\n",
              "    }\n",
              "\n",
              "    .dataframe tbody tr th {\n",
              "        vertical-align: top;\n",
              "    }\n",
              "\n",
              "    .dataframe thead th {\n",
              "        text-align: right;\n",
              "    }\n",
              "</style>\n",
              "<table border=\"1\" class=\"dataframe\">\n",
              "  <thead>\n",
              "    <tr style=\"text-align: right;\">\n",
              "      <th></th>\n",
              "      <th>job_roles</th>\n",
              "      <th>title</th>\n",
              "      <th>desc</th>\n",
              "      <th>clean_desc</th>\n",
              "    </tr>\n",
              "  </thead>\n",
              "  <tbody>\n",
              "    <tr>\n",
              "      <th>1246</th>\n",
              "      <td>Transportation Planner</td>\n",
              "      <td>Assistant Transportation Planner</td>\n",
              "      <td>•\\r\\nAssociate's or Bachelor's Degree in plann...</td>\n",
              "      <td>associate bachelor degree planning related fie...</td>\n",
              "    </tr>\n",
              "    <tr>\n",
              "      <th>1247</th>\n",
              "      <td>Transportation Planner</td>\n",
              "      <td>Public Transportation Planner, Analyst</td>\n",
              "      <td>•\\r\\nTravel up to 50% (While 50% of travel is ...</td>\n",
              "      <td>travel while travel requirement role due covid...</td>\n",
              "    </tr>\n",
              "  </tbody>\n",
              "</table>\n",
              "</div>"
            ],
            "text/plain": [
              "                    job_roles  ...                                         clean_desc\n",
              "1246  Transportation Planner   ...  associate bachelor degree planning related fie...\n",
              "1247  Transportation Planner   ...  travel while travel requirement role due covid...\n",
              "\n",
              "[2 rows x 4 columns]"
            ]
          },
          "metadata": {},
          "execution_count": 323
        }
      ]
    },
    {
      "cell_type": "code",
      "metadata": {
        "colab": {
          "base_uri": "https://localhost:8080/"
        },
        "id": "CN_ZQmxvHvJ7",
        "outputId": "384f7fd0-641f-4549-8223-4113c1926c24"
      },
      "source": [
        "df_extra.shape"
      ],
      "execution_count": null,
      "outputs": [
        {
          "output_type": "execute_result",
          "data": {
            "text/plain": [
              "(1099, 4)"
            ]
          },
          "metadata": {},
          "execution_count": 322
        }
      ]
    },
    {
      "cell_type": "markdown",
      "metadata": {
        "id": "NRavhlpovZxr"
      },
      "source": [
        "#Train Test Split"
      ]
    },
    {
      "cell_type": "code",
      "metadata": {
        "id": "w4eU01GRdEc-"
      },
      "source": [
        "X = df['clean_desc']\n",
        "y = df['job_roles']"
      ],
      "execution_count": null,
      "outputs": []
    },
    {
      "cell_type": "code",
      "metadata": {
        "id": "PH_NPVVAy6F4"
      },
      "source": [
        "'''from sklearn.preprocessing import MultiLabelBinarizer\n",
        "mlb = MultiLabelBinarizer()\n",
        "y_mul = mlb.fit_transform(y)'''"
      ],
      "execution_count": null,
      "outputs": []
    },
    {
      "cell_type": "code",
      "metadata": {
        "id": "i6TaosFpvDQp"
      },
      "source": [
        "from sklearn.model_selection import train_test_split\n",
        "from sklearn.feature_extraction.text import TfidfVectorizer"
      ],
      "execution_count": null,
      "outputs": []
    },
    {
      "cell_type": "code",
      "metadata": {
        "id": "_85oMDnOvh9W"
      },
      "source": [
        "tfidf_vectorizer = TfidfVectorizer(max_df=0.8,max_features=100000)"
      ],
      "execution_count": null,
      "outputs": []
    },
    {
      "cell_type": "code",
      "metadata": {
        "id": "oWS-HjjevlZj"
      },
      "source": [
        "# split the dataset into training and valid test \n",
        "Xtrain, Xtest, ytrain, ytest = train_test_split(X, y, test_size=0.2, random_state=9)"
      ],
      "execution_count": null,
      "outputs": []
    },
    {
      "cell_type": "code",
      "metadata": {
        "id": "rH1L07pCvwOC"
      },
      "source": [
        "# create Tf-IDF features\n",
        "xtrain_tfidf = tfidf_vectorizer.fit_transform(Xtrain)\n",
        "xtest_tfidf = tfidf_vectorizer.transform(Xtest)"
      ],
      "execution_count": null,
      "outputs": []
    },
    {
      "cell_type": "markdown",
      "metadata": {
        "id": "C_0rhi0N1Sm-"
      },
      "source": [
        "# target variable (job_roles) encoding"
      ]
    },
    {
      "cell_type": "code",
      "metadata": {
        "id": "opY4wt1A1V5r"
      },
      "source": [
        "# mulitlable encoder\n",
        "from sklearn.preprocessing import MultiLabelBinarizer"
      ],
      "execution_count": null,
      "outputs": []
    },
    {
      "cell_type": "code",
      "metadata": {
        "id": "E3h05wHZ1wxh"
      },
      "source": [
        "mlb = MultiLabelBinarizer()\n",
        "y_mul = mlb.fit_transform(y.values.reshape(-1,1))"
      ],
      "execution_count": null,
      "outputs": []
    },
    {
      "cell_type": "code",
      "metadata": {
        "id": "4VgLa4LC2Az1"
      },
      "source": [
        "mlb.classes_"
      ],
      "execution_count": null,
      "outputs": []
    },
    {
      "cell_type": "markdown",
      "metadata": {
        "id": "Xg8cVHTHv-Ed"
      },
      "source": [
        "# Model Building"
      ]
    },
    {
      "cell_type": "code",
      "metadata": {
        "id": "h-pqCGcVH78o"
      },
      "source": [
        "from sklearn.model_selection import train_test_split\n",
        "from sklearn.feature_extraction.text import TfidfVectorizer"
      ],
      "execution_count": null,
      "outputs": []
    },
    {
      "cell_type": "code",
      "metadata": {
        "id": "T36aUOchIAee"
      },
      "source": [
        "tfidf_vectorizer = TfidfVectorizer(max_df=0.8,max_features=10000)"
      ],
      "execution_count": null,
      "outputs": []
    },
    {
      "cell_type": "code",
      "metadata": {
        "id": "zcJJwqKnIHin"
      },
      "source": [
        "df_tfidf = tfidf_vectorizer.fit_transform(df_extra['clean_desc'])"
      ],
      "execution_count": null,
      "outputs": []
    },
    {
      "cell_type": "code",
      "metadata": {
        "id": "6WOMkqv7IeaF"
      },
      "source": [
        "mlb = MultiLabelBinarizer()\n",
        "y_mul =  mlb.fit_transform(df_extra['job_roles'].values.reshape(-1,1))"
      ],
      "execution_count": null,
      "outputs": []
    },
    {
      "cell_type": "code",
      "metadata": {
        "id": "-k3AISEgv4o0"
      },
      "source": [
        "from sklearn.svm import SVC\n",
        "from sklearn.multiclass import OneVsRestClassifier"
      ],
      "execution_count": null,
      "outputs": []
    },
    {
      "cell_type": "code",
      "metadata": {
        "id": "PwMk_dkBwEl2"
      },
      "source": [
        "svc = SVC(kernel='rbf', C=1e9, gamma=1e-07, probability=True)\n",
        "svm_clf = OneVsRestClassifier(svc)"
      ],
      "execution_count": null,
      "outputs": []
    },
    {
      "cell_type": "code",
      "metadata": {
        "id": "XFTR_LagwJiN",
        "colab": {
          "base_uri": "https://localhost:8080/"
        },
        "outputId": "7ceaf27c-f54f-41e6-ed0a-489b56a537af"
      },
      "source": [
        "svm_clf.fit(df_tfidf,y_mul)"
      ],
      "execution_count": null,
      "outputs": [
        {
          "output_type": "execute_result",
          "data": {
            "text/plain": [
              "OneVsRestClassifier(estimator=SVC(C=1000000000.0, gamma=1e-07,\n",
              "                                  probability=True))"
            ]
          },
          "metadata": {},
          "execution_count": 333
        }
      ]
    },
    {
      "cell_type": "code",
      "metadata": {
        "id": "NB-zuQFWyh3l"
      },
      "source": [
        "svm_pred = svm_clf.predict(xtest_tfidf)"
      ],
      "execution_count": null,
      "outputs": []
    },
    {
      "cell_type": "markdown",
      "metadata": {
        "id": "P1y0hhX_y5Nw"
      },
      "source": [
        "#Evaluation"
      ]
    },
    {
      "cell_type": "code",
      "metadata": {
        "id": "KWN3r3yowWXk"
      },
      "source": [
        "from sklearn.metrics import f1_score"
      ],
      "execution_count": null,
      "outputs": []
    },
    {
      "cell_type": "code",
      "metadata": {
        "colab": {
          "base_uri": "https://localhost:8080/"
        },
        "id": "e_3Z7blny3PY",
        "outputId": "1b76e983-4eb2-4368-da02-fd8f2cabd2d7"
      },
      "source": [
        "# evaluate performance\n",
        "f1_score(ytest, svm_pred, average=\"micro\")"
      ],
      "execution_count": null,
      "outputs": [
        {
          "output_type": "execute_result",
          "data": {
            "text/plain": [
              "0.23904382470119523"
            ]
          },
          "metadata": {},
          "execution_count": 30
        }
      ]
    },
    {
      "cell_type": "markdown",
      "metadata": {
        "id": "rEAqPoSSzapW"
      },
      "source": [
        "#Under Sampling"
      ]
    },
    {
      "cell_type": "code",
      "metadata": {
        "id": "M7rTv4ImCPG7"
      },
      "source": [
        "from collections import Counter\n",
        "counter_y = Counter(ytrain)"
      ],
      "execution_count": null,
      "outputs": []
    },
    {
      "cell_type": "code",
      "metadata": {
        "id": "CqiWCkvWCdSK"
      },
      "source": [
        "for key in counter_y:\n",
        "  if counter_y[key] >= 25:\n",
        "    counter_y[key] = 25"
      ],
      "execution_count": null,
      "outputs": []
    },
    {
      "cell_type": "code",
      "metadata": {
        "colab": {
          "base_uri": "https://localhost:8080/"
        },
        "id": "lyLM_XI788JF",
        "outputId": "7b2f8a36-8f72-4143-cd25-985c80fd14ef"
      },
      "source": [
        "from imblearn.under_sampling import ClusterCentroids\n",
        "X_under, y_under = ClusterCentroids(sampling_strategy = counter_y, random_state=42).fit_resample(xtrain_tfidf, ytrain)\n",
        "counter_under = Counter(y_under)\n",
        "\n",
        "# plot the distribution\n",
        "plt.figure(figsize=(20,5))\n",
        "plt.bar(counter_under.keys(), counter_under.values())\n",
        "plt.xticks(rotation=90);"
      ],
      "execution_count": null,
      "outputs": [
        {
          "output_type": "display_data",
          "data": {
            "image/png": "[encoded data removed]",
            "text/plain": [
              "<Figure size 1440x360 with 1 Axes>"
            ]
          },
          "metadata": {
            "needs_background": "light"
          }
        }
      ]
    },
    {
      "cell_type": "code",
      "metadata": {
        "id": "sFAEUGel3r93"
      },
      "source": [
        "mlb = MultiLabelBinarizer()\n",
        "y_under_mul =  mlb.fit_transform(y_under.values.reshape(-1,1))"
      ],
      "execution_count": null,
      "outputs": []
    },
    {
      "cell_type": "code",
      "metadata": {
        "colab": {
          "base_uri": "https://localhost:8080/"
        },
        "id": "iRy5T2VhtviC",
        "outputId": "8345c660-ac30-4000-f857-dad437b210db"
      },
      "source": [
        "svm_clf_u = OneVsRestClassifier(svc)\n",
        "svm_clf_u.fit(X_under, y_under_mul)"
      ],
      "execution_count": null,
      "outputs": [
        {
          "output_type": "execute_result",
          "data": {
            "text/plain": [
              "OneVsRestClassifier(estimator=SVC(C=1000000000.0, gamma=1e-07,\n",
              "                                  probability=True))"
            ]
          },
          "metadata": {},
          "execution_count": 64
        }
      ]
    },
    {
      "cell_type": "code",
      "metadata": {
        "id": "xIFwMec0tvkZ"
      },
      "source": [
        "svm_pred_u = svm_clf_u.predict(xtest_tfidf)"
      ],
      "execution_count": null,
      "outputs": []
    },
    {
      "cell_type": "code",
      "metadata": {
        "colab": {
          "base_uri": "https://localhost:8080/"
        },
        "id": "AjiNXbDqtvng",
        "outputId": "31a7737b-ebba-4be6-af3d-7c8c1fc36e7d"
      },
      "source": [
        "f1_score(mlb.transform(ytest.values.reshape(-1,1)), svm_pred_u, average=\"micro\")"
      ],
      "execution_count": null,
      "outputs": [
        {
          "output_type": "stream",
          "name": "stderr",
          "text": [
            "/usr/local/lib/python3.7/dist-packages/sklearn/preprocessing/_label.py:876: UserWarning: unknown class(es) ['Cleaner'] will be ignored\n",
            "  \"unknown class(es) {0} will be ignored\".format(sorted(unknown, key=str))\n"
          ]
        },
        {
          "output_type": "execute_result",
          "data": {
            "text/plain": [
              "0.24965132496513248"
            ]
          },
          "metadata": {},
          "execution_count": 182
        }
      ]
    },
    {
      "cell_type": "markdown",
      "metadata": {
        "id": "hBBl360YDcgv"
      },
      "source": [
        "#Over Sampling"
      ]
    },
    {
      "cell_type": "code",
      "metadata": {
        "id": "FCC0X_v5FvUn"
      },
      "source": [
        "#counter_y = Counter(ytrain)"
      ],
      "execution_count": null,
      "outputs": []
    },
    {
      "cell_type": "code",
      "metadata": {
        "id": "f_9kjsR9DbmM"
      },
      "source": [
        "for key in counter_y:\n",
        "  if counter_y[key] <= 6:\n",
        "    counter_y[key] = 6"
      ],
      "execution_count": null,
      "outputs": []
    },
    {
      "cell_type": "code",
      "metadata": {
        "colab": {
          "base_uri": "https://localhost:8080/",
          "height": 507
        },
        "id": "lr6NqtDfFx9Q",
        "outputId": "265a01a9-2806-47e1-d148-60acd2c65065"
      },
      "source": [
        "from imblearn.over_sampling import RandomOverSampler\n",
        "X_over, y_over = RandomOverSampler(sampling_strategy = counter_y, random_state=42).fit_resample(X_under, y_under)\n",
        "# summarize distribution\n",
        "counter_over = Counter(y_over)\n",
        "# plot the distribution\n",
        "plt.figure(figsize=(20,5))\n",
        "plt.bar(counter_over.keys(), counter_over.values())\n",
        "plt.xticks(rotation=90);"
      ],
      "execution_count": null,
      "outputs": [
        {
          "output_type": "display_data",
          "data": {
            "image/png": "[encoded data removed]",
            "text/plain": [
              "<Figure size 1440x360 with 1 Axes>"
            ]
          },
          "metadata": {
            "needs_background": "light"
          }
        }
      ]
    },
    {
      "cell_type": "code",
      "metadata": {
        "id": "JVsau_zymoZW"
      },
      "source": [
        "mlb = MultiLabelBinarizer()\n",
        "y_over_mul =  mlb.fit_transform(y_over.values.reshape(-1,1))"
      ],
      "execution_count": null,
      "outputs": []
    },
    {
      "cell_type": "code",
      "metadata": {
        "colab": {
          "base_uri": "https://localhost:8080/"
        },
        "id": "39Al9_uncegv",
        "outputId": "3ae52bec-a22f-4036-e932-ffdf0d2971fe"
      },
      "source": [
        "svc = SVC(kernel='rbf', C=1e9, gamma=1e-07, probability=True)\n",
        "svm_clf_s = OneVsRestClassifier(svc)\n",
        "svm_clf_s.fit(X_over, y_over_mul)"
      ],
      "execution_count": null,
      "outputs": [
        {
          "output_type": "execute_result",
          "data": {
            "text/plain": [
              "OneVsRestClassifier(estimator=SVC(C=1000000000.0, gamma=1e-07,\n",
              "                                  probability=True))"
            ]
          },
          "metadata": {},
          "execution_count": 74
        }
      ]
    },
    {
      "cell_type": "code",
      "metadata": {
        "id": "WSaj0YlVceje"
      },
      "source": [
        ""
      ],
      "execution_count": null,
      "outputs": []
    },
    {
      "cell_type": "markdown",
      "metadata": {
        "id": "9To7XOwlu3Pq"
      },
      "source": [
        "# Function For Sampling"
      ]
    },
    {
      "cell_type": "code",
      "metadata": {
        "id": "OP3WV3_En3nm"
      },
      "source": [
        "from collections import Counter\n",
        "from imblearn.under_sampling import ClusterCentroids\n",
        "from imblearn.over_sampling import RandomOverSampler\n",
        "\n",
        "def sampling(xtrain_tfidf, ytrain):\n",
        "\n",
        "  counter_y = Counter(ytrain)\n",
        "  value = 0\n",
        "  for i in counter_y:\n",
        "    if counter_y[i] >= value:\n",
        "      value = counter_y[i]\n",
        "\n",
        "  max = int(value * 0.70)\n",
        "  min = int(value * 0.20)\n",
        "\n",
        "  for key in counter_y:\n",
        "    if counter_y[key] >= max:\n",
        "      counter_y[key] = max\n",
        "  X_under, y_under = ClusterCentroids(sampling_strategy = counter_y, random_state=42).fit_resample(xtrain_tfidf, ytrain)\n",
        "\n",
        "  for key in counter_y:\n",
        "    if counter_y[key] <= min:\n",
        "      counter_y[key] = min\n",
        "  X_over, y_over = RandomOverSampler(sampling_strategy = counter_y, random_state=42).fit_resample(X_under, y_under)\n",
        "\n",
        "  return X_over, y_over"
      ],
      "execution_count": null,
      "outputs": []
    },
    {
      "cell_type": "code",
      "metadata": {
        "colab": {
          "base_uri": "https://localhost:8080/"
        },
        "id": "y6GSxWY_GzR7",
        "outputId": "34c8d564-0bce-4938-b49d-464d4e650b8a"
      },
      "source": [
        "xtrain_tfidf.shape"
      ],
      "execution_count": null,
      "outputs": [
        {
          "output_type": "execute_result",
          "data": {
            "text/plain": [
              "(999, 14349)"
            ]
          },
          "metadata": {},
          "execution_count": 58
        }
      ]
    },
    {
      "cell_type": "code",
      "metadata": {
        "id": "e314n3o9wSPK"
      },
      "source": [
        "X_over_tf, y_over_sl = sampling(xtrain_tfidf, ytrain)"
      ],
      "execution_count": null,
      "outputs": []
    },
    {
      "cell_type": "code",
      "metadata": {
        "colab": {
          "base_uri": "https://localhost:8080/"
        },
        "id": "2_OKHuWB36ix",
        "outputId": "6d71b0fe-be5d-469a-e0f8-3859bf909ecb"
      },
      "source": [
        "y_over_sl.shape"
      ],
      "execution_count": null,
      "outputs": [
        {
          "output_type": "execute_result",
          "data": {
            "text/plain": [
              "(1004,)"
            ]
          },
          "metadata": {},
          "execution_count": 59
        }
      ]
    },
    {
      "cell_type": "markdown",
      "metadata": {
        "id": "aNXoC5hwuzgj"
      },
      "source": [
        "#Test Data"
      ]
    },
    {
      "cell_type": "code",
      "metadata": {
        "colab": {
          "base_uri": "https://localhost:8080/",
          "height": 110
        },
        "id": "r2FCdp_nuUig",
        "outputId": "13c5ffa4-31d7-49d8-c178-fbaf441c86e4"
      },
      "source": [
        "df_test = pd.read_csv('/content/drive/MyDrive/Colab Data/output_job_roles (2).csv')\n",
        "df_test.head(2)"
      ],
      "execution_count": null,
      "outputs": [
        {
          "output_type": "execute_result",
          "data": {
            "text/html": [
              "<div>\n",
              "<style scoped>\n",
              "    .dataframe tbody tr th:only-of-type {\n",
              "        vertical-align: middle;\n",
              "    }\n",
              "\n",
              "    .dataframe tbody tr th {\n",
              "        vertical-align: top;\n",
              "    }\n",
              "\n",
              "    .dataframe thead th {\n",
              "        text-align: right;\n",
              "    }\n",
              "</style>\n",
              "<table border=\"1\" class=\"dataframe\">\n",
              "  <thead>\n",
              "    <tr style=\"text-align: right;\">\n",
              "      <th></th>\n",
              "      <th>job_title</th>\n",
              "      <th>clean_desc</th>\n",
              "      <th>predicted_roles</th>\n",
              "    </tr>\n",
              "  </thead>\n",
              "  <tbody>\n",
              "    <tr>\n",
              "      <th>0</th>\n",
              "      <td>Production Worker - Sign-On Bonus</td>\n",
              "      <td>retention bonus the progressive processing llc...</td>\n",
              "      <td>[('Machine Operator', 'Mobile Heavy Equipment ...</td>\n",
              "    </tr>\n",
              "    <tr>\n",
              "      <th>1</th>\n",
              "      <td>Driver Class A Great Pay Home on Weekends</td>\n",
              "      <td>position description stop job search now hirin...</td>\n",
              "      <td>[('Mobile Heavy Equipment Mechanic ', 'Packer')]</td>\n",
              "    </tr>\n",
              "  </tbody>\n",
              "</table>\n",
              "</div>"
            ],
            "text/plain": [
              "                                   job_title  ...                                    predicted_roles\n",
              "0          Production Worker - Sign-On Bonus  ...  [('Machine Operator', 'Mobile Heavy Equipment ...\n",
              "1  Driver Class A Great Pay Home on Weekends  ...   [('Mobile Heavy Equipment Mechanic ', 'Packer')]\n",
              "\n",
              "[2 rows x 3 columns]"
            ]
          },
          "metadata": {},
          "execution_count": 334
        }
      ]
    },
    {
      "cell_type": "code",
      "metadata": {
        "id": "6_3wpYj3wulL"
      },
      "source": [
        "df_test_tfidf = tfidf_vectorizer.transform(df_test['clean_desc'])"
      ],
      "execution_count": null,
      "outputs": []
    },
    {
      "cell_type": "code",
      "metadata": {
        "id": "R6jlwKTo6kCn"
      },
      "source": [
        "svm_pred = svm_clf.predict(df_test_tfidf)"
      ],
      "execution_count": null,
      "outputs": []
    },
    {
      "cell_type": "code",
      "metadata": {
        "id": "CuZVexSP-4tZ"
      },
      "source": [
        "df_test['new_predicted_roles'] = mlb.inverse_transform(svm_pred)"
      ],
      "execution_count": null,
      "outputs": []
    },
    {
      "cell_type": "code",
      "metadata": {
        "colab": {
          "base_uri": "https://localhost:8080/",
          "height": 203
        },
        "id": "waXkunQR_ROu",
        "outputId": "f9720e13-8076-40b0-e343-002a3061c6e6"
      },
      "source": [
        "df_test[['job_title','predicted_roles','new_predicted_roles']].head()"
      ],
      "execution_count": null,
      "outputs": [
        {
          "output_type": "execute_result",
          "data": {
            "text/html": [
              "<div>\n",
              "<style scoped>\n",
              "    .dataframe tbody tr th:only-of-type {\n",
              "        vertical-align: middle;\n",
              "    }\n",
              "\n",
              "    .dataframe tbody tr th {\n",
              "        vertical-align: top;\n",
              "    }\n",
              "\n",
              "    .dataframe thead th {\n",
              "        text-align: right;\n",
              "    }\n",
              "</style>\n",
              "<table border=\"1\" class=\"dataframe\">\n",
              "  <thead>\n",
              "    <tr style=\"text-align: right;\">\n",
              "      <th></th>\n",
              "      <th>job_title</th>\n",
              "      <th>predicted_roles</th>\n",
              "      <th>new_predicted_roles</th>\n",
              "    </tr>\n",
              "  </thead>\n",
              "  <tbody>\n",
              "    <tr>\n",
              "      <th>0</th>\n",
              "      <td>Production Worker - Sign-On Bonus</td>\n",
              "      <td>[('Machine Operator', 'Mobile Heavy Equipment ...</td>\n",
              "      <td>(Machine Operator, Mobile Heavy Equipment Mech...</td>\n",
              "    </tr>\n",
              "    <tr>\n",
              "      <th>1</th>\n",
              "      <td>Driver Class A Great Pay Home on Weekends</td>\n",
              "      <td>[('Mobile Heavy Equipment Mechanic ', 'Packer')]</td>\n",
              "      <td>(Emergency Medical Technician, Mobile Heavy Eq...</td>\n",
              "    </tr>\n",
              "    <tr>\n",
              "      <th>2</th>\n",
              "      <td>Class B Retail Route Driver - SIGN ON BONUS - ...</td>\n",
              "      <td>[('Shuttle Driver ',)]</td>\n",
              "      <td>(Mobile Heavy Equipment Mechanic ,)</td>\n",
              "    </tr>\n",
              "    <tr>\n",
              "      <th>3</th>\n",
              "      <td>Amazon Package Sorter - $3,000 Sign On Bonus!</td>\n",
              "      <td>[('Aircraft Cargo Handling Supervisor', 'Aircr...</td>\n",
              "      <td>(Air Traffic Controller, Aircraft Service Atte...</td>\n",
              "    </tr>\n",
              "    <tr>\n",
              "      <th>4</th>\n",
              "      <td>Local Non-CDL Box Truck Driver</td>\n",
              "      <td>[('Aircraft Service Attendant', 'Bus Driver ',...</td>\n",
              "      <td>(Air Traffic Controller, Aircraft Cargo Handli...</td>\n",
              "    </tr>\n",
              "  </tbody>\n",
              "</table>\n",
              "</div>"
            ],
            "text/plain": [
              "                                           job_title  ...                                new_predicted_roles\n",
              "0                  Production Worker - Sign-On Bonus  ...  (Machine Operator, Mobile Heavy Equipment Mech...\n",
              "1          Driver Class A Great Pay Home on Weekends  ...  (Emergency Medical Technician, Mobile Heavy Eq...\n",
              "2  Class B Retail Route Driver - SIGN ON BONUS - ...  ...                (Mobile Heavy Equipment Mechanic ,)\n",
              "3      Amazon Package Sorter - $3,000 Sign On Bonus!  ...  (Air Traffic Controller, Aircraft Service Atte...\n",
              "4                     Local Non-CDL Box Truck Driver  ...  (Air Traffic Controller, Aircraft Cargo Handli...\n",
              "\n",
              "[5 rows x 3 columns]"
            ]
          },
          "metadata": {},
          "execution_count": 338
        }
      ]
    },
    {
      "cell_type": "code",
      "metadata": {
        "id": "V0IYlJG8gXvF"
      },
      "source": [
        "df_test.to_csv('output_sim.csv')"
      ],
      "execution_count": null,
      "outputs": []
    }
  ]
}